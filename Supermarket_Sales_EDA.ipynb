{
 "cells": [
  {
   "cell_type": "code",
   "execution_count": null,
   "id": "b8457e6e",
   "metadata": {},
   "outputs": [],
   "source": [
    "\n",
    "# Import necessary libraries\n",
    "import pandas as pd\n",
    "import matplotlib.pyplot as plt\n",
    "import seaborn as sns\n",
    "\n",
    "# Load the dataset\n",
    "df = pd.read_csv(\"supermarket_sales.csv\")\n",
    "\n",
    "# Display the first few rows\n",
    "df.head()\n"
   ]
  },
  {
   "cell_type": "code",
   "execution_count": null,
   "id": "e8e0417f",
   "metadata": {},
   "outputs": [],
   "source": [
    "\n",
    "# Overview of the dataset\n",
    "df.info()\n",
    "df.describe()\n",
    "# Check for missing values\n",
    "df.isnull().sum()\n"
   ]
  },
  {
   "cell_type": "code",
   "execution_count": null,
   "id": "c8b683b9",
   "metadata": {},
   "outputs": [],
   "source": [
    "\n",
    "# Histogram of total sales\n",
    "plt.figure(figsize=(8, 5))\n",
    "sns.histplot(df['Total'], kde=True)\n",
    "plt.title('Distribution of Total Sales')\n",
    "plt.xlabel('Total Sales')\n",
    "plt.ylabel('Frequency')\n",
    "plt.show()\n"
   ]
  },
  {
   "cell_type": "code",
   "execution_count": null,
   "id": "b8eb9019",
   "metadata": {},
   "outputs": [],
   "source": [
    "\n",
    "# Bar plot: Average Total Sales by Gender\n",
    "plt.figure(figsize=(8, 5))\n",
    "sns.barplot(data=df, x='Gender', y='Total', ci=None)\n",
    "plt.title('Average Total Sales by Gender')\n",
    "plt.xlabel('Gender')\n",
    "plt.ylabel('Average Total Sales')\n",
    "plt.show()\n"
   ]
  },
  {
   "cell_type": "code",
   "execution_count": null,
   "id": "127c5f20",
   "metadata": {},
   "outputs": [],
   "source": [
    "\n",
    "# Pie chart for payment method distribution\n",
    "payment_counts = df['Payment'].value_counts()\n",
    "payment_counts.plot.pie(autopct='%1.1f%%', figsize=(8, 5))\n",
    "plt.title('Payment Method Distribution')\n",
    "plt.ylabel('')\n",
    "plt.show()\n"
   ]
  },
  {
   "cell_type": "code",
   "execution_count": null,
   "id": "d22cfa97",
   "metadata": {},
   "outputs": [],
   "source": [
    "\n",
    "# Heatmap to visualize correlations\n",
    "plt.figure(figsize=(8, 5))\n",
    "sns.heatmap(df.corr(), annot=True, cmap='coolwarm', fmt=\".2f\")\n",
    "plt.title('Correlation Heatmap')\n",
    "plt.show()\n"
   ]
  }
 ],
 "metadata": {},
 "nbformat": 4,
 "nbformat_minor": 5
}
